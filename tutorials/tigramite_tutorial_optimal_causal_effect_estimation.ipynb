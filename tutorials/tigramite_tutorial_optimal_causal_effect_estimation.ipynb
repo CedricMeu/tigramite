{
 "cells": [
  {
   "cell_type": "markdown",
   "metadata": {},
   "source": [
    "# Causal effect estimation with `TIGRAMITE`\n",
    "\n",
    "TIGRAMITE is a time series analysis python module. It allows to reconstruct graphical models (conditional independence graphs) from discrete or continuously-valued time series based on the PCMCI framework and create high-quality plots of the results. This class extends the class towards causal effect estimation including the reconstruction of optimal adjustment sets.\n",
    "\n",
    "Optimal adjustment theory is described here:\n",
    "J. Runge,\n",
    "Necessary and sufficient graphical conditions for optimal adjustment sets in causal graphical models with hidden variables \n",
    "NeurIPS 2021"
   ]
  },
  {
   "cell_type": "markdown",
   "metadata": {},
   "source": [
    "## 1. Estimating linear directed link effects"
   ]
  },
  {
   "cell_type": "code",
   "execution_count": 102,
   "metadata": {},
   "outputs": [],
   "source": [
    "# Imports\n",
    "\n",
    "import numpy as np\n",
    "import matplotlib\n",
    "from matplotlib import pyplot as plt\n",
    "%matplotlib inline     \n",
    "## use `%matplotlib notebook` for interactive figures\n",
    "# plt.style.use('ggplot')\n",
    "import sklearn\n",
    "\n",
    "import tigramite\n",
    "from tigramite import data_processing as pp\n",
    "from tigramite import plotting as tp\n",
    "from tigramite.pcmci import PCMCI\n",
    "from tigramite.independence_tests import ParCorr, GPDC, CMIknn, CMIsymb\n",
    "from tigramite.models import Models"
   ]
  },
  {
   "cell_type": "markdown",
   "metadata": {},
   "source": [
    "Consider time series coming from a data generating process\n",
    "\n",
    "\\begin{align*}\n",
    "X^0_t &= 0.7 X^0_{t-1} - 0.8 X^1_{t-1} + \\eta^0_t\\\\\n",
    "X^1_t &= 0.8 X^1_{t-1} + 0.8 X^3_{t-1} + \\eta^1_t\\\\\n",
    "X^2_t &= 0.5 X^2_{t-1} + 0.5 X^1_{t-2} + 0.6 X^3_{t-3} + \\eta^2_t\\\\\n",
    "X^3_t &= 0.7 X^3_{t-1} + \\eta^3_t\\\\\n",
    "\\end{align*}\n",
    "\n",
    "where $\\eta$ are independent zero-mean unit variance random variables. Our goal is to reconstruct the drivers of each variable. In Tigramite such a process can be generated with the function ``pp.var_process``."
   ]
  },
  {
   "cell_type": "code",
   "execution_count": 103,
   "metadata": {},
   "outputs": [],
   "source": [
    "def lin(x): return x\n",
    "def nonlin(x): return x**3\n",
    "links = {0: [((0, -1), 0.7, lin), ((1, -1), -0.8, lin)],\n",
    "         1: [((1, -1), 0.8, lin), ((3, -1), 0.8, lin)],\n",
    "         2: [((2, -1), 0.5, lin), ((1, -2), 0.5, lin), ((3, -3), 0.6, lin)],\n",
    "         3: [((3, -1), 0.4, lin)],\n",
    "         }\n",
    "T = 10000     # time series length\n",
    "data, _ = pp.structural_causal_process(links, T=T, seed=42)\n",
    "T, N = data.shape\n",
    "\n",
    "# Initialize dataframe object, specify time axis and variable names\n",
    "var_names = [r'$X^0$', r'$X^1$', r'$X^2$', r'$X^3$']\n",
    "dataframe = pp.DataFrame(data, \n",
    "                         datatime = np.arange(len(data)), \n",
    "                         var_names=var_names)\n"
   ]
  },
  {
   "cell_type": "markdown",
   "metadata": {},
   "source": [
    "First, we plot the time series. This can be done with the function ``tp.plot_timeseries``"
   ]
  },
  {
   "cell_type": "code",
   "execution_count": 104,
   "metadata": {
    "scrolled": true
   },
   "outputs": [
    {
     "data": {
      "image/png": "[encoded data removed]",
      "text/plain": [
       "<Figure size 432x288 with 4 Axes>"
      ]
     },
     "metadata": {
      "needs_background": "light"
     },
     "output_type": "display_data"
    }
   ],
   "source": [
    "tp.plot_timeseries(dataframe); plt.show()"
   ]
  },
  {
   "cell_type": "markdown",
   "metadata": {},
   "source": [
    "It's stationary and doesn't contain missing values (covered in other tutorial). \n",
    "In this tutorial, we assume that the true graph is known and the user wants to estimate causal effects using backdoor adjustment:\n",
    "\n",
    "SOME FORMULAS...\n",
    "\n",
    "This first part covers the case where the user specifies the adjustment set herself.\n",
    "\n",
    "First, we initialize the ``Models`` class with a ``dataframe`` and a sklearn ``model`` object, here linear regression. Here we leave the data as it is and perform no standardization, which could be done with ``data_transform``. ``mask_type`` can be used for masking data samples (e.g., winter months)."
   ]
  },
  {
   "cell_type": "code",
   "execution_count": 54,
   "metadata": {},
   "outputs": [],
   "source": [
    "model = Models(\n",
    "        dataframe=dataframe, \n",
    "        model=sklearn.linear_model.LinearRegression(),\n",
    "        data_transform=None,   #sklearn.preprocessing.StandardScaler(),\n",
    "        mask_type=None,\n",
    "        verbosity=1)"
   ]
  },
  {
   "cell_type": "markdown",
   "metadata": {},
   "source": [
    "First suppose we are given a DAG and know the parents of all variables (incl. time lags). We can then estimate the linear coefficients for each link.\n",
    "Before running the causal algorithm, it's a good idea to plot the lagged unconditional dependencies, e.g., the lagged correlations. This can help to identify which maximal time lag ``tau_max`` to choose in the causal algorithm."
   ]
  },
  {
   "cell_type": "code",
   "execution_count": 55,
   "metadata": {},
   "outputs": [],
   "source": [
    "all_parents = {0: [(0, -1), (1, -1)],\n",
    "               1: [(1, -1), (3, -1)],\n",
    "               2: [(2, -1), (1, -2), (3, -3)],\n",
    "               3: [(3, -1)],\n",
    "               }\n",
    "fit_results = model.get_fit(all_parents=all_parents,\n",
    "                selected_variables=None,\n",
    "                tau_max=None,\n",
    "                cut_off='max_lag_or_tau_max',\n",
    "                return_data=False)"
   ]
  },
  {
   "cell_type": "markdown",
   "metadata": {},
   "source": [
    "The fitted sklearn models are stored in a dictionary. For the linear case we are interested in the regression coefficients which we can retrieve as follows."
   ]
  },
  {
   "cell_type": "code",
   "execution_count": 56,
   "metadata": {},
   "outputs": [
    {
     "name": "stdout",
     "output_type": "stream",
     "text": [
      "{0: {(0, -1): 0.70000273, (1, -1): -0.8005577}, 1: {(1, -1): 0.79954785, (3, -1): 0.80647594}, 2: {(2, -1): 0.497578, (1, -2): 0.5034987, (3, -3): 0.6004529}, 3: {(3, -1): 0.3953842}}\n"
     ]
    }
   ],
   "source": [
    "coefs = model.get_coefs()\n",
    "print(coefs)"
   ]
  },
  {
   "cell_type": "markdown",
   "metadata": {},
   "source": [
    "As you can see, these well correspond to the true coefficients that were used to create the data above.\n",
    "\n",
    "To visualize, we can transform these link coefficients in the ``val_matrix`` format for plotting purposes."
   ]
  },
  {
   "cell_type": "code",
   "execution_count": 57,
   "metadata": {},
   "outputs": [
    {
     "name": "stdout",
     "output_type": "stream",
     "text": [
      "[[[ 0.          0.70000273  0.          0.        ]\n",
      "  [ 0.          0.          0.          0.        ]\n",
      "  [ 0.          0.          0.          0.        ]\n",
      "  [ 0.          0.          0.          0.        ]]\n",
      "\n",
      " [[ 0.         -0.80055767  0.          0.        ]\n",
      "  [ 0.          0.79954785  0.          0.        ]\n",
      "  [ 0.          0.          0.50349867  0.        ]\n",
      "  [ 0.          0.          0.          0.        ]]\n",
      "\n",
      " [[ 0.          0.          0.          0.        ]\n",
      "  [ 0.          0.          0.          0.        ]\n",
      "  [ 0.          0.497578    0.          0.        ]\n",
      "  [ 0.          0.          0.          0.        ]]\n",
      "\n",
      " [[ 0.          0.          0.          0.        ]\n",
      "  [ 0.          0.80647594  0.          0.        ]\n",
      "  [ 0.          0.          0.          0.6004529 ]\n",
      "  [ 0.          0.39538419  0.          0.        ]]]\n"
     ]
    }
   ],
   "source": [
    "val_matrix = model.get_val_matrix()\n",
    "print(val_matrix)"
   ]
  },
  {
   "cell_type": "markdown",
   "metadata": {},
   "source": [
    "Tigramite offers several plotting options for plotting causal effects: The time series graph and the process graph which aggregates the information in the time series graph. Both take as arguments the boolean ``link_matrix`` which denotes links by ``1``. This boolean matrix has to be created from the user, for example by choosing non-zero entries in ``val_matrix``."
   ]
  },
  {
   "cell_type": "code",
   "execution_count": 58,
   "metadata": {},
   "outputs": [],
   "source": [
    "link_matrix = val_matrix != 0."
   ]
  },
  {
   "cell_type": "markdown",
   "metadata": {},
   "source": [
    "In the process graph, the node color denotes the auto-MCI value and the link colors the cross-MCI value. If links occur at multiple lags between two variables, the link color denotes the strongest one and the label lists all significant lags in order of their strength."
   ]
  },
  {
   "cell_type": "code",
   "execution_count": 59,
   "metadata": {
    "scrolled": false
   },
   "outputs": [
    {
     "data": {
      "image/png": "[encoded data removed]",
      "text/plain": [
       "<Figure size 432x288 with 3 Axes>"
      ]
     },
     "metadata": {
      "needs_background": "light"
     },
     "output_type": "display_data"
    }
   ],
   "source": [
    "tp.plot_graph(\n",
    "    val_matrix=val_matrix,\n",
    "    link_matrix=link_matrix,\n",
    "    var_names=var_names,\n",
    "    link_colorbar_label='cross-link coeff.',\n",
    "    node_colorbar_label='auto-link coeff',\n",
    "    ); plt.show()"
   ]
  },
  {
   "cell_type": "code",
   "execution_count": 60,
   "metadata": {},
   "outputs": [
    {
     "data": {
      "image/png": "[encoded data removed]",
      "text/plain": [
       "<Figure size 432x288 with 2 Axes>"
      ]
     },
     "metadata": {
      "needs_background": "light"
     },
     "output_type": "display_data"
    }
   ],
   "source": [
    "# Plot time series graph    \n",
    "tp.plot_time_series_graph(\n",
    "    figsize=(6, 4),\n",
    "    val_matrix=val_matrix,\n",
    "    link_matrix=link_matrix,\n",
    "    var_names=var_names,\n",
    "    link_colorbar_label='link coeff',\n",
    "    ); plt.show()"
   ]
  },
  {
   "cell_type": "code",
   "execution_count": 64,
   "metadata": {},
   "outputs": [
    {
     "name": "stdout",
     "output_type": "stream",
     "text": [
      "{0: {(3, -2): -0.64590114, (1, -2): -0.63967484, (0, -1): 0.70020694}}\n"
     ]
    }
   ],
   "source": [
    "all_parents = {0: [(3, -2), (1, -2), (0, -1)],\n",
    "               1: [],\n",
    "               2: [],\n",
    "               3: [],\n",
    "               }\n",
    "fit_results = model.get_fit(all_parents=all_parents,\n",
    "                selected_variables=[0],\n",
    "                tau_max=None,\n",
    "                cut_off='max_lag_or_tau_max',\n",
    "                return_data=False)\n",
    "coefs = model.get_coefs()\n",
    "print(coefs)"
   ]
  },
  {
   "cell_type": "markdown",
   "metadata": {},
   "source": [
    "While the process graph is nicer to look at, the time series graph better represents the spatio-temporal dependency structure from which causal pathways can be read off. You can adjust the size and aspect ratio of nodes with `node_size` and `node_aspect` parameters, and also modify many other properties, see the parameters of `plot_graph` and `plot_time_series_graph`."
   ]
  },
  {
   "cell_type": "code",
   "execution_count": null,
   "metadata": {},
   "outputs": [],
   "source": []
  },
  {
   "cell_type": "code",
   "execution_count": null,
   "metadata": {},
   "outputs": [],
   "source": []
  },
  {
   "cell_type": "code",
   "execution_count": null,
   "metadata": {},
   "outputs": [],
   "source": []
  },
  {
   "cell_type": "code",
   "execution_count": null,
   "metadata": {},
   "outputs": [],
   "source": []
  },
  {
   "cell_type": "markdown",
   "metadata": {},
   "source": [
    "## 2. Estimating linear total effects"
   ]
  },
  {
   "cell_type": "markdown",
   "metadata": {},
   "source": [
    "The quantity of interest now is some total effect between $X_{t-\\tau}$ and $Y_t$. Here we assume that the user knows which adjustment set to use. \n",
    "\n",
    "For example, if we want to estimate the of $X^3_{t-2}$ on $X^0_t$, we need to account for backdoor paths here only through auto-links."
   ]
  },
  {
   "cell_type": "code",
   "execution_count": 23,
   "metadata": {},
   "outputs": [
    {
     "name": "stdout",
     "output_type": "stream",
     "text": [
      "{0: {(3, -2): -0.6431109, (0, -1): 0.6989268, (1, -2): -0.6356675}}\n"
     ]
    }
   ],
   "source": [
    "all_parents = {0: [(3, -2), (0, -1), (1, -2)],\n",
    "               1: [],\n",
    "               2: [],\n",
    "               3: [],\n",
    "               }\n",
    "fit_results = model.get_fit(all_parents=all_parents,\n",
    "                selected_variables=[0],\n",
    "                tau_max=None,\n",
    "                cut_off='max_lag_or_tau_max',\n",
    "                return_data=False)\n",
    "coefs = model.get_coefs()\n",
    "print(coefs)"
   ]
  },
  {
   "cell_type": "code",
   "execution_count": null,
   "metadata": {},
   "outputs": [],
   "source": []
  },
  {
   "cell_type": "code",
   "execution_count": null,
   "metadata": {},
   "outputs": [],
   "source": []
  },
  {
   "cell_type": "markdown",
   "metadata": {},
   "source": [
    "## 4. Estimating nonlinear effects with sklearn\n"
   ]
  },
  {
   "cell_type": "code",
   "execution_count": 105,
   "metadata": {},
   "outputs": [],
   "source": [
    "model = Models(\n",
    "        dataframe=dataframe, \n",
    "        model=sklearn.linear_model.LinearRegression(),\n",
    "        data_transform=None,   #sklearn.preprocessing.StandardScaler(),\n",
    "        mask_type=None,\n",
    "        verbosity=0)"
   ]
  },
  {
   "cell_type": "code",
   "execution_count": 106,
   "metadata": {},
   "outputs": [],
   "source": [
    "X = [(3, -2)]\n",
    "Y = [(0, 0)]\n",
    "Z = [(0, -1), (1, -2)]\n",
    "fit_results = model.get_general_fitted_model( \n",
    "                Y=Y, X=X, Z=Z)"
   ]
  },
  {
   "cell_type": "code",
   "execution_count": 107,
   "metadata": {},
   "outputs": [
    {
     "name": "stdout",
     "output_type": "stream",
     "text": [
      "{(0, 0): array([  3.5258794, -13.552127 , -45.914627 , ...,  16.50327  ,\n",
      "        27.391775 ,  23.476685 ], dtype=float32)}\n",
      "{(0, 0): array([-11.25845  , -28.336456 , -60.698956 , ...,   1.7189384,\n",
      "        12.607444 ,   8.692355 ], dtype=float32)}\n"
     ]
    }
   ],
   "source": [
    "intervention_array_0 = np.copy(data)\n",
    "intervention_data_0 = pp.DataFrame(intervention_array_0)\n",
    "\n",
    "intervention_array_1 = np.copy(data)\n",
    "# Set X = [(3, -2)] to x+1\n",
    "intervention_array_1[:,3] += 1.\n",
    "intervention_data_1 = pp.DataFrame(intervention_array_1)\n",
    "\n",
    "\n",
    "prediction_0 = model.get_general_prediction(\n",
    "                Y=Y, X=X, Z=Z,\n",
    "                intervention_data=intervention_data_0)\n",
    "print(prediction_0)\n",
    "prediction_1 = model.get_general_prediction(\n",
    "                Y=Y, X=X, Z=Z,\n",
    "                intervention_data=intervention_data_1)\n",
    "print(prediction_1)"
   ]
  },
  {
   "cell_type": "code",
   "execution_count": 108,
   "metadata": {},
   "outputs": [
    {
     "name": "stdout",
     "output_type": "stream",
     "text": [
      "-14.78433\n"
     ]
    }
   ],
   "source": [
    "# The linear coefficient is equal to the expectation of the difference of these two interventions\n",
    "print(np.mean(prediction_1[Y[0]]-prediction_0[Y[0]]))"
   ]
  },
  {
   "cell_type": "code",
   "execution_count": 109,
   "metadata": {},
   "outputs": [
    {
     "data": {
      "text/plain": [
       "[<matplotlib.lines.Line2D at 0x7ff01e3a5390>]"
      ]
     },
     "execution_count": 109,
     "metadata": {},
     "output_type": "execute_result"
    },
    {
     "data": {
      "image/png": "[encoded data removed]",
      "text/plain": [
       "<Figure size 432x288 with 1 Axes>"
      ]
     },
     "metadata": {
      "needs_background": "light"
     },
     "output_type": "display_data"
    }
   ],
   "source": [
    "X_intervention = np.linspace(-2, 2, 10)\n",
    "\n",
    "prediction = np.zeros(len(X_intervention))\n",
    "for index, x in enumerate(X_intervention):\n",
    "    intervention_array_1 = np.copy(data)\n",
    "    intervention_array_1[:,3] = x\n",
    "    intervention_data_1 = pp.DataFrame(intervention_array_1)\n",
    "\n",
    "    prediction_1 = model.get_general_prediction(\n",
    "                    Y=Y, X=X, Z=Z,\n",
    "                    intervention_data=intervention_data_1)\n",
    "    prediction[index] = np.mean(prediction_1[Y[0]])\n",
    "plt.plot(prediction)"
   ]
  },
  {
   "cell_type": "markdown",
   "metadata": {},
   "source": [
    "But now you can also use more complex sklearn models."
   ]
  },
  {
   "cell_type": "code",
   "execution_count": 110,
   "metadata": {},
   "outputs": [],
   "source": [
    "import sklearn.neighbors\n",
    "model = Models(\n",
    "        dataframe=dataframe, \n",
    "        model=sklearn.neighbors.KNeighborsRegressor(),\n",
    "        data_transform=None,\n",
    "        mask_type=None,\n",
    "        verbosity=0)"
   ]
  },
  {
   "cell_type": "code",
   "execution_count": 111,
   "metadata": {},
   "outputs": [],
   "source": [
    "X = [(3, -2)]\n",
    "Y = [(0, 0)]\n",
    "Z = [(0, -1), (1, -2)]\n",
    "fit_results = model.get_general_fitted_model( \n",
    "                Y=Y, X=X, Z=Z)"
   ]
  },
  {
   "cell_type": "code",
   "execution_count": 112,
   "metadata": {},
   "outputs": [
    {
     "name": "stdout",
     "output_type": "stream",
     "text": [
      "{(0, 0): array([ 11.857709 ,  -4.1402783, -38.544933 , ...,   2.1793168,\n",
      "         4.185391 ,   5.319144 ], dtype=float32)}\n",
      "{(0, 0): array([  9.748444 ,  -9.223071 , -55.613445 , ...,   1.6286663,\n",
      "         5.128834 ,   5.202862 ], dtype=float32)}\n"
     ]
    }
   ],
   "source": [
    "intervention_array_0 = np.copy(data)\n",
    "intervention_data_0 = pp.DataFrame(intervention_array_0)\n",
    "\n",
    "intervention_array_1 = np.copy(data)\n",
    "# Set X = [(3, -2)] to x+1\n",
    "intervention_array_1[:,3] += 1.\n",
    "intervention_data_1 = pp.DataFrame(intervention_array_1)\n",
    "\n",
    "prediction_0 = model.get_general_prediction(\n",
    "                Y=Y, X=X, Z=Z,\n",
    "                intervention_data=intervention_data_0)\n",
    "print(prediction_0)\n",
    "prediction_1 = model.get_general_prediction(\n",
    "                Y=Y, X=X, Z=Z,\n",
    "                intervention_data=intervention_data_1)\n",
    "print(prediction_1)"
   ]
  },
  {
   "cell_type": "code",
   "execution_count": 113,
   "metadata": {},
   "outputs": [
    {
     "name": "stdout",
     "output_type": "stream",
     "text": [
      "-7.167591\n"
     ]
    }
   ],
   "source": [
    "print(np.mean(prediction_1[Y[0]]-prediction_0[Y[0]]))"
   ]
  },
  {
   "cell_type": "code",
   "execution_count": 119,
   "metadata": {},
   "outputs": [
    {
     "data": {
      "text/plain": [
       "[<matplotlib.lines.Line2D at 0x7ff01f300c50>]"
      ]
     },
     "execution_count": 119,
     "metadata": {},
     "output_type": "execute_result"
    },
    {
     "data": {
      "image/png": "[encoded data removed]",
      "text/plain": [
       "<Figure size 432x288 with 1 Axes>"
      ]
     },
     "metadata": {
      "needs_background": "light"
     },
     "output_type": "display_data"
    }
   ],
   "source": [
    "X_intervention = np.linspace(-30+100, 30+100, 100)\n",
    "\n",
    "prediction = np.zeros(len(X_intervention))\n",
    "for index, x in enumerate(X_intervention):\n",
    "    intervention_array_1 = np.copy(data)\n",
    "    intervention_array_1[:,3] = x\n",
    "    intervention_data_1 = pp.DataFrame(intervention_array_1)\n",
    "\n",
    "    prediction_1 = model.get_general_prediction(\n",
    "                    Y=Y, X=X, Z=Z,\n",
    "                    intervention_data=intervention_data_1)\n",
    "    prediction[index] = np.mean(prediction_1[Y[0]])\n",
    "plt.plot(prediction)"
   ]
  },
  {
   "cell_type": "markdown",
   "metadata": {},
   "source": [
    "## 5. Generating the ground truth causal effect by intervening in original causal model"
   ]
  },
  {
   "cell_type": "code",
   "execution_count": null,
   "metadata": {},
   "outputs": [],
   "source": [
    "\n",
    "def your_model(intervene_on=None, intervention_value=0.):\n",
    "    random_state = np.random.RandomState(seed=42)\n",
    "\n",
    "    def lin(x): return x\n",
    "    def nonlin(x): return x**3\n",
    "    T = 1000\n",
    "\n",
    "    noise = random_state.randn(T, 4)\n",
    "    # Initialize data as noise and then overwrite (except for first 10 samples)\n",
    "    data = np.copy(noise)\n",
    "    for t in range(10, T):\n",
    "        data[t, 0] = 0.7*lin(data[t-1, 0]) - 0.8*nonlin(data[t-1, 1]) + noise[t,0]\n",
    "        data[t, 1] = 0.8*lin(data[t-1, 1]) + 0.8*lin(data[t-1, 3]) + noise[t,1]\n",
    "        data[t, 2] = 0.5*lin(data[t-1, 2]) + 0.5*lin(data[t-2, 1]) + 0.6*lin(data[t-3, 3]) + noise[t,2]\n",
    "        data[t, 3] = 0.4*lin(data[t-1, 3]) + noise[t,3]\n",
    "        \n",
    "T, N = data.shape\n",
    "\n",
    "# Initialize dataframe object, specify time axis and variable names\n",
    "var_names = [r'$X^0$', r'$X^1$', r'$X^2$', r'$X^3$']\n",
    "dataframe = pp.DataFrame(data, \n",
    "                         datatime = np.arange(len(data)), \n",
    "                         var_names=var_names)\n"
   ]
  },
  {
   "cell_type": "markdown",
   "metadata": {},
   "source": [
    "## 4. Getting optimal adjustment sets\n"
   ]
  },
  {
   "cell_type": "code",
   "execution_count": null,
   "metadata": {},
   "outputs": [],
   "source": []
  }
 ],
 "metadata": {
  "kernelspec": {
   "display_name": "Python 3 (ipykernel)",
   "language": "python",
   "name": "python3"
  },
  "language_info": {
   "codemirror_mode": {
    "name": "ipython",
    "version": 3
   },
   "file_extension": ".py",
   "mimetype": "text/x-python",
   "name": "python",
   "nbconvert_exporter": "python",
   "pygments_lexer": "ipython3",
   "version": "3.7.11"
  }
 },
 "nbformat": 4,
 "nbformat_minor": 1
}
