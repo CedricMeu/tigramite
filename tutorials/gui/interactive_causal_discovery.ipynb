{
 "cells": [
  {
   "cell_type": "markdown",
   "metadata": {},
   "source": [
    "# Interactive causal discovery with `TIGRAMITE`\n",
    "\n",
    "TIGRAMITE is a time series analysis python module. It allows to reconstruct graphical models (conditional independence graphs) from discrete and continuously-valued time series based on the PCMCI framework and create high-quality plots of the results.\n",
    "This tutorial explains the main features of the causal discovery framework through an interactive visualization using ipywidgets.\n",
    "\n",
    "See the following paper for theoretical background:\n",
    "Runge, Jakob. 2018. “Causal Network Reconstruction from Time Series: From Theoretical Assumptions to Practical Estimation.” Chaos: An Interdisciplinary Journal of Nonlinear Science 28 (7): 075310.\n",
    "\n",
    "Last, the following Nature Communications Perspective paper provides an overview of causal inference methods in general, identifies promising applications, and discusses methodological challenges (exemplified in Earth system sciences): \n",
    "https://www.nature.com/articles/s41467-019-10105-3"
   ]
  },
  {
   "cell_type": "code",
   "execution_count": 1,
   "metadata": {},
   "outputs": [],
   "source": [
    "import numpy as np\n",
    "import tigramite\n",
    "from tigramite import data_processing as pp\n",
    "from tigramite.toymodels import structural_causal_processes as toys\n",
    "from gui import ProjectWindow as tigramite_gui"
   ]
  },
  {
   "cell_type": "markdown",
   "metadata": {},
   "source": [
    "### Toy model (Continuous linear dependencies)\n",
    "\n",
    "Consider time series coming from a data generating process\n",
    "\n",
    "\\begin{align*}\n",
    "X^0_t &= 0.7 X^0_{t-1} - 0.8 X^1_{t-1} + \\eta^0_t\\\\\n",
    "X^1_t &= 0.8 X^1_{t-1} + 0.8 X^3_{t-1} + \\eta^1_t\\\\\n",
    "X^2_t &= 0.5 X^2_{t-1} + 0.5 X^1_{t-2} + 0.6 X^3_{t-3} + \\eta^2_t\\\\\n",
    "X^3_t &= 0.7 X^3_{t-1} + \\eta^3_t\\\\\n",
    "\\end{align*}\n",
    "\n",
    "where $\\eta$ are independent zero-mean unit variance random variables."
   ]
  },
  {
   "cell_type": "code",
   "execution_count": 2,
   "metadata": {},
   "outputs": [],
   "source": [
    "seed = 42\n",
    "def lin_f(x): return x\n",
    "links_coeffs = {0: [((0, -1), 0.7, lin_f), ((1, -1), -0.8, lin_f)],\n",
    "                1: [((1, -1), 0.8, lin_f), ((3, -1), 0.8, lin_f)],\n",
    "                2: [((2, -1), 0.5, lin_f), ((1, -2), 0.5, lin_f), ((3, -3), 0.6, lin_f)],\n",
    "                3: [((3, -1), 0.4, lin_f)],\n",
    "                }\n",
    "T = 500     # time series length\n",
    "data, _ = toys.structural_causal_process(links_coeffs, T=T, seed=seed)\n",
    "T, N = data.shape\n",
    "with open('linear_data.npy', 'wb') as f:\n",
    "    np.save(f, data)"
   ]
  },
  {
   "cell_type": "markdown",
   "metadata": {},
   "source": [
    "### Toy model (Continuous nonlinear dependencies)\n",
    "\n",
    "For nonlinear dependencies, consider the following model:\n",
    "\n",
    "\\begin{align*}\n",
    "    X^0_t &= 0.4 (X^1_{t-1})^2 + \\eta^0_t\\\\\n",
    "    X^1_t &= \\eta^1_t \\\\\n",
    "    X^2_t &= 0.5 (X^1_{t-2})^2 + \\eta^2_t\n",
    "\\end{align*}"
   ]
  },
  {
   "cell_type": "code",
   "execution_count": 3,
   "metadata": {},
   "outputs": [],
   "source": [
    "seed = 42\n",
    "random_state = np.random.default_rng(seed=seed)\n",
    "data = random_state.standard_normal((T, 3))\n",
    "for t in range(1, T):\n",
    "    data[t, 0] += 0.4*data[t-1, 1]**2\n",
    "    data[t, 2] += 0.5*data[t-2, 1]**2\n",
    "with open('nonlinear_data.npy', 'wb') as f:\n",
    "    np.save(f, data)"
   ]
  },
  {
   "cell_type": "markdown",
   "metadata": {},
   "source": [
    "### Toy model (Categorical data)"
   ]
  },
  {
   "cell_type": "code",
   "execution_count": 4,
   "metadata": {},
   "outputs": [],
   "source": [
    "seed = 42\n",
    "T = 1000\n",
    "def get_data(T, seed=1):\n",
    "    random_state = np.random.default_rng(seed)\n",
    "    data = random_state.binomial(n=1, p=0.4, size=(T, 3))\n",
    "    for t in range(T):\n",
    "        prob = 0.4+data[t-1, 1].squeeze()*0.2\n",
    "        data[t, 0] = random_state.choice([0, 1], p=[prob, 1.-prob])\n",
    "        prob = 0.4+data[t-2, 1].squeeze()*0.2\n",
    "        data[t, 2] = random_state.choice([0, 1, 2], p=[prob, (1.-prob)/2., (1.-prob)/2.])\n",
    "    return data\n",
    "data = get_data(T=T, seed=seed)\n",
    "with open('categorical_data.npy', 'wb') as f:\n",
    "    np.save(f, data)"
   ]
  },
  {
   "cell_type": "markdown",
   "metadata": {},
   "source": [
    "### Toy model (Mixed data)"
   ]
  },
  {
   "cell_type": "code",
   "execution_count": 5,
   "metadata": {},
   "outputs": [],
   "source": [
    "seed = 42\n",
    "random_state = np.random.default_rng(seed=seed)\n",
    "T = 1000\n",
    "data = np.zeros((T, 3))\n",
    "data[:, 1] = random_state.binomial(n=1, p=0.5, size=T)\n",
    "for t in range(2, T):\n",
    "    data[t, 0] = 0.5 * data[t-1, 0] + random_state.normal(0.2 + data[t-1, 1] * 0.6, 1)\n",
    "    data[t, 2] = 0.4 * data[t-1, 2] + random_state.normal(0.2 + data[t-2, 1] * 0.6, 1)\n",
    "\n",
    "type_mask = np.zeros(data.shape, dtype='int')\n",
    "# X0 is continuous, encoded as 0 in type_mask\n",
    "type_mask[:,0] = 0\n",
    "# X1 is discrete, encoded as 1 in type_mask\n",
    "type_mask[:,1] = 1\n",
    "# X2 is continuous, encoded as 0 in type_mask\n",
    "type_mask[:,2] = 0\n",
    "\n",
    "with open('mixed_data.npy', 'wb') as f:\n",
    "    np.save(f, data)"
   ]
  },
  {
   "cell_type": "markdown",
   "metadata": {},
   "source": [
    "We store the generated time series data as .npy files. This can be loaded into the UI using the dialog box below. Your own data (as a .npy file) can also be fed in."
   ]
  },
  {
   "cell_type": "markdown",
   "metadata": {},
   "source": [
    "### Using the GUI\n",
    "1. Load the data set (.npy) file from the drop down menu. The .npy file has to be within the current directory that the tutorial is in.\n",
    "2. Choose the appropriate conditional independence test. Look into the tutorial on conditional independence tests to get an overview of how to choose the appropriate CI test based on assumptions about the dependencies. Look into the documentation (https://jakobrunge.github.io/tigramite/) to get a description of the parameters used.\n",
    "3. Choose the causal discovery method. Look into tutorials on pcmci and pcmciplus to get an overview of the features and assumptions required to run the appropriate method. lpcmci will be supported in the GUI soon. The documentation in 2. also gives a description of the parameters used.\n",
    "4. Click 'Run' to run the causal discovery pipleine. The terminal window shows the progress as the different stages of the causal discovery pipeline runs.\n",
    "5. Click on 'Show' to see the discovered causal graph. The drop down menu has options to visualize the summary graph, time series graph and lagged correlation graphs respectively. See documentation for different parameters for graphing. "
   ]
  },
  {
   "cell_type": "code",
   "execution_count": 6,
   "metadata": {
    "scrolled": false
   },
   "outputs": [
    {
     "data": {
      "application/vnd.jupyter.widget-view+json": {
       "model_id": "84e2e644f17f4478a4bdb319aa8ea44c",
       "version_major": 2,
       "version_minor": 0
      },
      "text/plain": [
       "VBox(children=(Accordion(children=(Dropdown(description='Data:', index=4, options=('linear_data.npy', 'nonline…"
      ]
     },
     "metadata": {},
     "output_type": "display_data"
    }
   ],
   "source": [
    "tigramite_gui().show()"
   ]
  },
  {
   "cell_type": "code",
   "execution_count": null,
   "metadata": {},
   "outputs": [],
   "source": []
  }
 ],
 "metadata": {
  "kernelspec": {
   "display_name": "pymc3latenv",
   "language": "python",
   "name": "pymc3latenv"
  },
  "language_info": {
   "codemirror_mode": {
    "name": "ipython",
    "version": 3
   },
   "file_extension": ".py",
   "mimetype": "text/x-python",
   "name": "python",
   "nbconvert_exporter": "python",
   "pygments_lexer": "ipython3",
   "version": "3.9.13"
  }
 },
 "nbformat": 4,
 "nbformat_minor": 4
}
