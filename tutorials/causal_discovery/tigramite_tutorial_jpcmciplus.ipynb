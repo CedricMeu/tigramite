{
 "cells": [
  {
   "cell_type": "markdown",
   "id": "cb0e9d95",
   "metadata": {},
   "source": [
    "# J(oint)-PCMCI+: Causal discovery for time series from multiple (possibly latent) contexts\n",
    "\n",
    "TIGRAMITE is a time series analysis python module. It allows to reconstruct causal graphical models from discrete or continuously-valued time series based on the PCMCI framework and create high-quality plots of the results.\n",
    "\n",
    "This tutorial explains the Joint-PCMCI+ (J-PCMCI+) algorithm, which is implemented as the function ```J_PCMCI.run_jpcmciplus```. In contrast to the PCMCI and PCMCIplus algorithms, J-PCMCI+ is specifically designed to handle time series data from different datasets that include observations of the same variables  but that were collected in different contexts. The contexts are assumed to be represented by specific variables that are either constant across time or over the given datasets.\n",
    "\n",
    "* * * * *\n",
    "Publication on J-PCMCI+: Günther, Wiebke, and Ninad, Urmi and Runge, Jakob (2020). Causal discovery for time series from multiple datasets with latent contexts. Accepted to 39th Conference on Uncertainty in Artificial Intelligence 2023.\n",
    "* * * *\n",
    "\n",
    "The tutorial goes over the following points:\n",
    "1. Motivation and basic concepts\n",
    "2. The algorithm\n",
    "3. Application example"
   ]
  },
  {
   "cell_type": "code",
   "execution_count": 3,
   "id": "3da41e2d",
   "metadata": {},
   "outputs": [
    {
     "name": "stdout",
     "output_type": "stream",
     "text": [
      "['/home/guen_wi/Documents/tigramite_github/tigramite/tutorials/causal_discovery', '/home/guen_wi/anaconda3/envs/uai23/lib/python39.zip', '/home/guen_wi/anaconda3/envs/uai23/lib/python3.9', '/home/guen_wi/anaconda3/envs/uai23/lib/python3.9/lib-dynload', '', '/home/guen_wi/anaconda3/envs/uai23/lib/python3.9/site-packages', '/home/guen_wi/anaconda3/envs/uai23/lib/python3.9/site-packages/tigramite-5.2.1.18-py3.9.egg']\n"
     ]
    },
    {
     "ename": "ModuleNotFoundError",
     "evalue": "No module named 'tigramite.jpcmci'",
     "output_type": "error",
     "traceback": [
      "\u001b[0;31m---------------------------------------------------------------------------\u001b[0m",
      "\u001b[0;31mModuleNotFoundError\u001b[0m                       Traceback (most recent call last)",
      "Cell \u001b[0;32mIn[3], line 21\u001b[0m\n\u001b[1;32m     19\u001b[0m \u001b[38;5;28;01mfrom\u001b[39;00m \u001b[38;5;21;01mtigramite\u001b[39;00m\u001b[38;5;21;01m.\u001b[39;00m\u001b[38;5;21;01mtoymodels\u001b[39;00m \u001b[38;5;28;01mimport\u001b[39;00m structural_causal_processes \u001b[38;5;28;01mas\u001b[39;00m toys\n\u001b[1;32m     20\u001b[0m \u001b[38;5;28;01mfrom\u001b[39;00m \u001b[38;5;21;01mtigramite\u001b[39;00m\u001b[38;5;21;01m.\u001b[39;00m\u001b[38;5;21;01mpcmci\u001b[39;00m \u001b[38;5;28;01mimport\u001b[39;00m PCMCI, _nested_to_normal\n\u001b[0;32m---> 21\u001b[0m \u001b[38;5;28;01mfrom\u001b[39;00m \u001b[38;5;21;01mtigramite\u001b[39;00m\u001b[38;5;21;01m.\u001b[39;00m\u001b[38;5;21;01mjpcmci\u001b[39;00m \u001b[38;5;28;01mimport\u001b[39;00m J_PCMCIplus\n\u001b[1;32m     22\u001b[0m \u001b[38;5;28;01mfrom\u001b[39;00m \u001b[38;5;21;01mtigramite\u001b[39;00m\u001b[38;5;21;01m.\u001b[39;00m\u001b[38;5;21;01mindependence_tests\u001b[39;00m\u001b[38;5;21;01m.\u001b[39;00m\u001b[38;5;21;01mparcorr\u001b[39;00m \u001b[38;5;28;01mimport\u001b[39;00m ParCorr\n\u001b[1;32m     23\u001b[0m \u001b[38;5;28;01mfrom\u001b[39;00m \u001b[38;5;21;01mtigramite\u001b[39;00m\u001b[38;5;21;01m.\u001b[39;00m\u001b[38;5;21;01mindependence_tests\u001b[39;00m\u001b[38;5;21;01m.\u001b[39;00m\u001b[38;5;21;01mparcorr_mult\u001b[39;00m \u001b[38;5;28;01mimport\u001b[39;00m ParCorrMult\n",
      "\u001b[0;31mModuleNotFoundError\u001b[0m: No module named 'tigramite.jpcmci'"
     ]
    }
   ],
   "source": [
    "# Imports\n",
    "import numpy as np\n",
    "from numpy.random import SeedSequence, default_rng\n",
    "import sys\n",
    "from matplotlib import pyplot as plt\n",
    "from scipy import stats\n",
    "import pickle\n",
    "import os\n",
    "from sklearn import gaussian_process\n",
    "from sklearn.gaussian_process.kernels import RBF\n",
    "from sklearn.gaussian_process import GaussianProcessRegressor\n",
    "from copy import copy, deepcopy\n",
    "from collections import defaultdict\n",
    "import itertools\n",
    "\n",
    "print(sys.path)\n",
    "\n",
    "import tigramite\n",
    "from tigramite.toymodels import structural_causal_processes as toys\n",
    "from tigramite.pcmci import PCMCI, _nested_to_normal\n",
    "from tigramite.jpcmci import J_PCMCIplus\n",
    "from tigramite.independence_tests.parcorr import ParCorr\n",
    "from tigramite.independence_tests.parcorr_mult import ParCorrMult\n",
    "import tigramite.data_processing as pp\n",
    "import tigramite.plotting as tp"
   ]
  },
  {
   "cell_type": "markdown",
   "id": "c5a5da8b",
   "metadata": {},
   "source": [
    "## 1. Motivation and basic concepts\n",
    "\n",
    "We are interested in discovering the causal graph between variables that we have observed within different contexts, i.e., we have different datasets with observational time series of these variables (see schematic below). For instance, such contexts can be different locations at which we have observed these variables, such as time series of river runoff and local weather variables from different catchments. \n",
    "\n",
    "<img style=\"float: left; margin:10px 30px 0 0\" src=\"./figures/intro_jpcmci.png\" alt= “” width=\"30%\" height=\"30%\">\n",
    "\n",
    "In this example, the local catchment systems share certain causal parents, such as time-dependent large-scale weather over all catchments, but differ in other catchment-specific but constant-in-time drivers, such as the altitude of the catchment. We call these drivers ***temporal*** and ***spatial contexts*** ($\\tilde{C}_\\text{time}$ and $\\tilde{C}_\\text{space}$ in the schematic), respectively. They differ from the system variables (runoff, local weather variables such as precipitation) in the sense that some background knowledge on their structure and on their relationship to the system variables is available. In particuar, we assume the context variables to be either constant in time or over the datasets, and, furthermore, we assume them to be exogenous to the system variables.\n",
    "\n",
    "These assumptions allow us to overcome latent confounding that is due to unobserved context variables by pooling the datasets and considering the joint causal graph among system, context, and certain auxiliary variables as we will see in more detail in the following sections of this tutorial.\n",
    "\n",
    "\n",
    "\n",
    "***To summarize***, in this tutorial we take a look at J-PCMCI+, which is a consistent causal discovery algorithm that can:\n",
    "\n",
    "   1. de-confound those system nodes that are confounded by latent contexts without having any knowledge of the latent contexts themselves;\n",
    "   2. retain as much information about the causal links between the observed  context and system variables as possible by checking conditional independencies appropriately;\n",
    "   3. discover the correct induced causal graph between the system nodes."
   ]
  },
  {
   "cell_type": "markdown",
   "id": "b2cb6fd7",
   "metadata": {},
   "source": [
    "### 1.1 The joint time-dependent  structural causal model\n",
    "\n",
    "To formalize the ideas presented above, we assume that the observed data was generated by an underlying mechanism across datasets $d\\in \\mathcal{D}$ with $|\\mathcal{D}|=M$ that can be represented by an acyclic time-dependent structural causal model (SCM) involving the time-dependent system variables $\\mathbf{X}_t=\\{X_t^i\\}_{i\\in \\mathcal{I}}$ at time $t$ as well as context variables $\\tilde{\\mathbf{C}}=\\tilde{\\mathbf{C}}_{time}\\dot{\\cup} \\ \n",
    "    \\tilde{\\mathbf{C}}_{space}$ with temporal contexts $\\tilde{\\mathbf{C}}_{time,t}=\\{\\tilde{C}_t^k\\}_{k\\in \\mathcal{K}_{\\rm time}}$ and (time-independent) spatial-contexts $\\tilde{\\mathbf{C}}_{space}=\\{\\tilde{C}^l\\}_{l\\in \\mathcal{K}_{\\rm space}}$, for $i\\in \\mathcal{I}$:\n",
    "    \n",
    "\\begin{aligned}\n",
    "            &\\mathbf{X}^{d}_t:= \\mathbf{f}({Pa}_X(\\mathbf{X}^{d}_t),\\operatorname{Pa}_{\\tilde{C}_{\\rm time}}(\\mathbf{X}^{d}_t), \\operatorname{Pa}_{\\tilde{C}_{\\rm space}}(\\mathbf{X}^{d}_t), \\boldsymbol{\\eta}^{d}_t) \\\\ \n",
    "            &\\mathbf{\\tilde{C}}_{{\\rm time}, t} := \\mathbf{g}({Pa}_{\\tilde{C}_{\\rm time}}(\\mathbf{\\tilde{C}}_{{\\rm time}, t}), \\boldsymbol{\\eta}_{{\\rm time}, t}) \\\\\n",
    "            &\\mathbf{\\tilde{C}}^{d}_{\\rm space} := \\mathbf{h}({Pa}{\\tilde{C}_{\\rm space}}(\\mathbf{\\tilde{C}}_{\\rm space}), \\boldsymbol{\\eta}_{\\rm space}^{d})\n",
    "\\end{aligned}\n",
    "    where the exogenous noise variables $(\\boldsymbol{\\eta}^{d}_t, \\boldsymbol{\\eta}_{{\\rm time}, t}, \\boldsymbol{\\eta}_{\\rm space}^{d})$ are jointly independent and $\\eta^{i,d}_{t}$ are identically distributed across time and space, $\\eta^k_{{\\rm time},t}$ are identically distributed across time, and $\\eta^{l,d}_{\\rm space}$ are identically distributed across space. $\\operatorname{Pa}_X$ denotes the causal parents within $\\mathbf{X}$, and analogously for $\\operatorname{Pa}_{\\tilde{C}_{\\rm time}}$ and $\\operatorname{Pa}_{\\tilde{C}_{\\rm space}}$.\n",
    "    \n",
    "Note that we assume that the context variables are exogeneous to the system. In other words, system variables cannt be parents of context variables.\n"
   ]
  },
  {
   "cell_type": "markdown",
   "id": "957da198",
   "metadata": {},
   "source": [
    "### 1.2 Context variables and dummy variables\n",
    "\n",
    "Let us take a closer look at the context variables $\\tilde{\\mathbf{C}}_\\text{time}$ and $\\tilde{\\mathbf{C}}_\\text{space}$ in the SCM above. \n",
    "\n",
    "A temporal context variable $C^i_\\text{time} \\in \\tilde{\\mathbf{C}}_\\text{time}$ is a time-dependent random variable that remains the same across datasets. A spatial context variable $C^i_\\text{space} \\in \\tilde{\\mathbf{C}}_\\text{space}$ is a random variable that is constant over time and within a dataset but can change across datasets. In our motivational example,$C^i_\\text{time}$ could represent large-scale weather dynamics that affect multiple observational sites at once. Another example could be the economic development in a country over a time that affects all individuals living in that country. An example for $C^i_\\text{space}$ could be the average slope in a river catchment or the height of an individual. \n",
    "We think of the context variables as corresponding to real-world phenomena.\n",
    "\n",
    "However, J-PCMCI+ can also deal with unobserved context variables. This is achieved through auxiliary variables, so-called dummies that mimic the structure of context variables. These dummy variables label each time-step or dataset, respectively (and thus the time dummy has a unique value for each time step, and the space dummy has a unique value within each dataset). Generally, their values can not be interpreted as a physical quantity. In that sense, the dummy variable is not a causal variable itself. They are intended to be a placeholder for the unobserved context variables, in order to capture confounding between system variables due to latent context variables. \n",
    "\n",
    "Within J-PCMCI+, the dummy variables are encoded using one-hot vectors, i.e., for the time dummy the first time point has the corresponding dummy-value $(1,0,\\ldots,0)^T \\in \\{ 0,1 \\}^T$, the second time point corresponds to $(0,1,\\ldots,0)^T$, and so on. For the space dummy dataset $1$ corresponds to the dummy-value $(1,0,\\ldots,0)^T \\in \\{ 0,1 \\}^M$, etc."
   ]
  },
  {
   "cell_type": "markdown",
   "id": "20c6cdb2",
   "metadata": {},
   "source": [
    "## 2. The algorithm\n",
    "\n",
    "J-PCMCI+ extends the PCMCI+ time series causal discovery algorithm to the case of datasets from multiple dataset- or time dependent contexts with potentially unobserved context confounders of the system variables. It does so by combining PCMCI+ with the JCI-approach [1], i.e., pooling datasets from multiple contexts, and adding observed context variables to the graph. Furthermore, it uses time- and space-dummy variables to account for latent context variables that confound system variables, similar to [2].\n",
    "\n",
    "\n",
    "The method consists of four main steps: one $\\text{PC}_1$ lagged phase and three MCI phases. \n",
    "\n",
    "1. ***Discovery of supersets of the lagged parents of the system and observed temporal context nodes by running the $\\text{PC}_1$ lagged phase on this subset of nodes.***\n",
    "\n",
    "2. Next, the ***MCI test is run on pairs of system and context nodes conditional on subsets of system and context***, i.e. perform MCI tests for pairs $((C^j_{t-\\tau}, X^i_t))_{\\tau > 0}$,  $(C_t^j, X_t^i)$, $(X_t^i, C_t^j)$ for all $i,j$, \n",
    "    $$\n",
    "        C_{t-\\tau}^i \\perp\\!\\!\\!\\!\\perp X_t^j | \\mathbf{S}, \\hat{\\mathcal{B}}^-_t(X_t^j)  \\setminus \\{ C_{t-\\tau}^i \\}, \\hat{\\mathcal{B}}^-_{t-\\tau}(C_{t-\\tau}^i)\n",
    "    $$\n",
    "with $\\mathbf{S}$ being a subset of the contemporaneous adjacencies $\\mathcal{A}_t(X_t^j)$ and $\\hat{\\mathcal{B}}^-_t(X_t^j)$ are the lagged adjacencies from step one. If $C$ is a spatial context variable, we only have to test the contemporaneous pairs $(C_t^j, X_t^i)$, $(X_t^i, C_t^j)$ for all $i,j$. If $C_t^j$ and $X_t^i$ are conditionally independent, all lagged links between $C_t^j$ and $X^j_{t-\\tau}$ are also removed for all $\\tau$.\n",
    "\n",
    "3. ***Perform MCI tests on all system-dummy pairs conditional on the superset of lagged links, the discovered contemporaneous context adjacencies, as well as on subsets of contemporaneous system links***, i.e. test for $(D, X_t^i)$, $(X_t^i, D)$ for all $i$, i.e.\\ \n",
    "    $$\n",
    "    D \\perp\\!\\!\\!\\!\\perp X_t^j | \\mathbf{S}, \\hat{\\mathcal{B}}^C_t(X_t^j)\n",
    "    $$\n",
    "    where $\\mathbf{S} \\subset \\mathcal{A}_t(X_t^i)$ and $\\hat{\\mathcal{B}}^C_t(X_t^j)$ are the lagged and contextual adjacencies found in the previous step.\n",
    "If $D$ and $X_t^j$ are found to be conditionally independence, links between $D$ and $X^j_{t-\\tau}$ are removed for all $\\tau$.\n",
    "Using assumption \\ref{ass:JCI}, context node is the parent in all system-context links.\n",
    "\n",
    "4. Finally, we ***perform  MCI tests on all system pairs conditional on discovered lagged, context and dummy adjacencies, as well as on subsets of contemporaneous system links and orientation phase***. In more detail, we perform MCI test for pairs $((X^j_{t-\\tau}, X_t^i))_{\\tau > 0}$, $(X_t^i, X_t^j)$ for all $i, j$, i.e.\n",
    "    $$\n",
    "     X^i_{t-\\tau} \\perp\\!\\!\\!\\!\\perp X_t^j | \\mathbf{S}, \\hat{\\mathcal{B}}^{CD}_t(X_t^j)  \\setminus \\{ X_{t-\\tau}^i \\},  \\hat{\\mathcal{B}}^{CD}_t(X_{t-\\tau}^i) \n",
    "    $$\n",
    "    where $\\mathbf{S} \\subset \\mathcal{A}_t(X_t^i)$ and $\\hat{\\mathcal{B}}^{CD}_t(X_t^j)$ are the lagged, contextual, and dummy adjacencies found in the previous steps.\n",
    "Finally, all remaining edges (without expert knowledge) are oriented using the PCMCI$^+$ orientation phase while making use of all triples involving one context or dummy variable and two system variables as in the non-time series case."
   ]
  },
  {
   "cell_type": "markdown",
   "id": "a257b2e0",
   "metadata": {},
   "source": [
    "## 3. Application Example\n",
    "This section demonstrates and explains the application of J-PCMCI+ on synthetic data.\n",
    "\n",
    "### 3.1 Setup \n",
    "Here we choose the random seed, how large of a sample we want to generate, and some other hyperparameters."
   ]
  },
  {
   "cell_type": "code",
   "execution_count": null,
   "id": "e28a8e5a",
   "metadata": {},
   "outputs": [],
   "source": [
    "# Set seeds for reproducibility\n",
    "ss = SeedSequence(12345)\n",
    "child_seeds = ss.spawn(2)\n",
    "\n",
    "model_seed = child_seeds[0]\n",
    "context_seed = child_seeds[1]\n",
    "\n",
    "random_state = np.random.default_rng(model_seed)\n",
    "\n",
    "# Choose the time series length and number of spatial contexts\n",
    "T=100\n",
    "nb_domains = 50\n",
    "\n",
    "transient_fraction=0.2\n",
    "tau_max = 2\n",
    "frac_observed = 0.5"
   ]
  },
  {
   "cell_type": "markdown",
   "id": "dcfcf6c3",
   "metadata": {},
   "source": [
    "### 3.2 Data generation\n",
    "For generating synthetic data, we consider a specific version of the time-dependent SCM (1). Namely, within each dataset $d$ at time point $t$:\n",
    "\\begin{aligned}\n",
    "X^{1,d}_t &= 0.3X^{1,d}_{t-1} + 0.6C^4_t + 0.5L^5 + \\eta^{1,d}_t, \\\\\n",
    "X^{2,d}_t &= 0.4X^{2,d}_{t-1} + 0.4C^4_{t-1} + \\eta^{2,d}_t, \\\\\n",
    "X^{3,d}_t &= 0.3X^{3,d}_{t-1} - 0.5X^{2,d}_{t-2} + 0.5L^5 + 0.6C^6 + \\eta^{3,d}_t, \\\\\n",
    "C^4_t &= \\eta^4_t, \\\\\n",
    "L^{5,d} &= \\eta^{5,d}, \\\\\n",
    "C^{6,d} &= \\eta^{5,d}, \\\\\n",
    "\\end{aligned}\n",
    "where $C_t^4$ has the same value within each dataset, and $L^5$ and $C^6$ are constant over time."
   ]
  },
  {
   "cell_type": "code",
   "execution_count": null,
   "id": "bf016408",
   "metadata": {},
   "outputs": [],
   "source": [
    "# Specify the model\n",
    "def lin(x): return x\n",
    "\n",
    "links_sys = {0: [((0, -1), 0.3, lin), ((3, -1), 0.6, lin), ((4, -1), 0.9, lin)],\n",
    "         1: [((1, -1), 0.4, lin), ((3, -1), 0.4, lin)],\n",
    "         2: [((2, -1), 0.3, lin), ((1, -2), -0.5, lin), ((4, -1), 0.9, lin), ((5, 0), 0.6, lin)]                                 \n",
    "        }\n",
    "\n",
    "links_tc = {3:[], 4: []}\n",
    "links_sc = {5: []}\n",
    "\n",
    "# Specify dynamical noise term distributions, here unit variance Gaussians\n",
    "#random_state = np.random.RandomState(seed)\n",
    "noises = [random_state.standard_normal for j in range(6)]\n",
    "\n",
    "contextmodel = gd.ContextModel(links_tc=links_tc, links_sc=links_sc, \n",
    "                            links_sys=links_sys, noises=noises, \n",
    "                            seed=context_seed)\n",
    "\n",
    "data_ens, nonstationary = contextmodel.generate_data(nb_domains, T, transient_fraction)\n",
    "\n",
    "assert not nonstationary\n",
    "\n",
    "# decide which context variables should be latent, and which are observed\n",
    "observed_indices_time = [4]\n",
    "latent_indices_time = [3]\n",
    "\n",
    "observed_indices_space = [5]\n",
    "latent_indices_space = []\n",
    "\n",
    "# all system variables are also observed, thus we get the following observed data\n",
    "observed_indices = list(links_sys.keys())+observed_indices_time+observed_indices_space\n",
    "data_observed = deepcopy(data_ens)\n",
    "data_observed = {key: data_ens[key][:,observed_indices] for key in data_ens}"
   ]
  },
  {
   "cell_type": "markdown",
   "id": "12cde56b",
   "metadata": {},
   "source": [
    "We have a quick look at the ground truth graph that we now have specified and which corresponds to the SCM (1) above. For that we use the function ```tp.plot_graph```. The observed temporal and spatial context nodes are labelled as ```t-C_i``` and ```s-C_i```, respectively. Their latent counterparts are labelled as ```t-L_i``` and ```s-L_i```, respectively. "
   ]
  },
  {
   "cell_type": "code",
   "execution_count": null,
   "id": "8707566b",
   "metadata": {},
   "outputs": [],
   "source": [
    "links = {**links_sys, **links_tc, **links_sc}\n",
    "gt_graph = toys.links_to_graph(links, tau_max=tau_max)\n",
    "\n",
    "sys_var_names = ['X_' + str(i) for i in links_sys.keys()]\n",
    "temp_context_names = ['t-C_'+str(i) for i in observed_indices_time] + \\\n",
    "                        ['t-L_'+str(i) for i in latent_indices_time]\n",
    "spatial_context_names = ['s-L_'+str(i) for i in latent_indices_space] + ['s-C_'+str(i) for i in observed_indices_space]\n",
    "                            \n",
    "tp.plot_graph(gt_graph, var_names=sys_var_names+temp_context_names+spatial_context_names)\n",
    "plt.show()"
   ]
  },
  {
   "cell_type": "code",
   "execution_count": null,
   "id": "aefd6cd5",
   "metadata": {
    "scrolled": true
   },
   "outputs": [],
   "source": [
    "# Add one-hot-encoding of time-steps and dataset index to the observational data. \n",
    "# These are the values of the time and space dummy variables.\n",
    "dummy_data_time = np.identity(T)\n",
    "\n",
    "data_dict = {}\n",
    "for i in range(nb_domains):\n",
    "    dummy_data_space = np.zeros((T, nb_domains))\n",
    "    dummy_data_space[:,i] = 1.\n",
    "    data_dict[i] = np.hstack((data_observed[i], dummy_data_time, dummy_data_space))\n",
    "\n",
    "# Define vector-valued variables including dummy variables as well as observed (system and context) variables\n",
    "nb_observed_context_nodes = len(observed_indices_time) + len(observed_indices_space)\n",
    "N = len(links_sys.keys())\n",
    "process_vars = list(links_sys.keys())\n",
    "observed_temporal_context_nodes = list(range(N, N + len(observed_indices_time)))\n",
    "observed_spatial_context_nodes = list(range(N + len(observed_indices_time), \n",
    "                                            N + len(observed_indices_time) + len(observed_indices_space)))\n",
    "time_dummy_index = N + nb_observed_context_nodes\n",
    "space_dummy_index = N+nb_observed_context_nodes+1\n",
    "time_dummy = list(range(time_dummy_index, time_dummy_index + T))\n",
    "space_dummy = list(range(time_dummy_index + T, time_dummy_index + T + nb_domains))\n",
    "\n",
    "vector_vars = {i: [(i, 0)] for i in process_vars + observed_temporal_context_nodes + observed_spatial_context_nodes}\n",
    "vector_vars[time_dummy_index] = [(i, 0) for i in time_dummy]\n",
    "vector_vars[space_dummy_index] = [(i, 0) for i in space_dummy]\n",
    "\n",
    "# Name all the variables and initialize the dataframe object\n",
    "# Be careful to use analysis_mode = 'multiple'\n",
    "sys_var_names = ['X_' + str(i) for i in process_vars]\n",
    "context_var_names = ['t-C_'+str(i) for i in observed_indices_time] + ['s-C_'+str(i) for i in observed_indices_space]\n",
    "var_names = sys_var_names + context_var_names + ['t-dummy', 's-dummy']\n",
    "\n",
    "dataframe = pp.DataFrame(\n",
    "    data=data_dict,\n",
    "    vector_vars = vector_vars,\n",
    "    analysis_mode = 'multiple',\n",
    "    var_names = var_names\n",
    "    )"
   ]
  },
  {
   "cell_type": "markdown",
   "id": "04e14fd0",
   "metadata": {},
   "source": [
    "Let's look at the first two datasets by plotting the time series with the function ```tp.plot_timeseries```. Note that the observed spatial context variable ```s-C_5``` is constant across time but has a different value within each dataset, and the temporal context variable ```t-C_3``` has the same values in each dataset but it varies over time. \n",
    "\n",
    "You can also see the one-hot encoding of the dummy variables."
   ]
  },
  {
   "cell_type": "code",
   "execution_count": null,
   "id": "a6afef49",
   "metadata": {
    "scrolled": false
   },
   "outputs": [],
   "source": [
    "#for dataset in [0,1]:\n",
    "#    plot.plot_timeseries(selected_dataset = dataset, dataframe = dataframe, figsize=(5, 10))\n",
    "#    plt.show()"
   ]
  },
  {
   "cell_type": "markdown",
   "id": "20064b7c",
   "metadata": {},
   "source": [
    "### Run J-PCMCI+\n",
    "We set tau_max = 2. Heuristics for choosing this hyper parameter are described in the PCMCI tutorial. There, it is also described how to choose an appropriated conditional independence test based on scatter plots. We further choose pc_alpha = 0.01 and apart from that do not modify the default hyperparameter settings.\n",
    "\n",
    "- Parameters"
   ]
  },
  {
   "cell_type": "code",
   "execution_count": null,
   "id": "241e5937",
   "metadata": {
    "scrolled": false
   },
   "outputs": [],
   "source": [
    "# Create a J-PCMCI+ object, passing the dataframe and (conditional)\n",
    "# independence test objects, as well as the observed temporal and spatial context nodes \n",
    "# and the indices of the dummies.\n",
    "j_pcmciplus = J_PCMCIplus(dataframe=dataframe,\n",
    "                      # ParCorrMultNew is a variant of ParCorrMult that can deal with data rows that are constant zero\n",
    "                      cond_ind_test=ParCorrMultNew(significance='analytic'), \n",
    "                      verbosity=1, \n",
    "                      time_context_nodes=observed_temporal_context_nodes, \n",
    "                      space_context_nodes=observed_spatial_context_nodes,\n",
    "                      time_dummy=time_dummy_index, \n",
    "                      space_dummy=space_dummy_index)\n",
    "\n",
    "\n",
    "# Define the analysis parameters.\n",
    "tau_max = 2\n",
    "pc_alpha = 0.01\n",
    "\n",
    "\n",
    "# Run J-PCMCI+\n",
    "results = j_pcmciplus.run_jpcmciplus(tau_min=0, \n",
    "                              tau_max=tau_max, \n",
    "                              pc_alpha=pc_alpha)\n"
   ]
  },
  {
   "cell_type": "markdown",
   "id": "d45279b1",
   "metadata": {},
   "source": [
    "#### Plotting the results\n",
    "Next, we use the function ```tp.plot_graph``` to plot the learned summary DAG. In our example the learned graph exactly agrees with the true DAG. \n",
    "\n",
    "Note, in particular, that J-PCMCI+ has correctly identified the links between the observed context variables and the system variables. It also managed to deconfound $X^0$ and $X^2$ which are confounded by an unobserved spatial context variable ($L^4$) using the space dummy.\n",
    "\n",
    "The edges are colored according to the test statistic values returned by ```J_PCMCI.run_jpcmci```, i.e., the maximum absolute value of ```val_matrix[i, j, tau]``` determines the color of the edge between $X^i_{t-\\tau}$ and $X^j_t$ (provided this edge exists) according to the color scale at the bottom. The color of node denotes the maximum of the absolute value of ```val_matrix[i, i, tau]``` across all $1 \\leq \\tau \\leq \\tau_\\text{max}$.\n"
   ]
  },
  {
   "cell_type": "code",
   "execution_count": null,
   "id": "c3e01a02",
   "metadata": {},
   "outputs": [],
   "source": [
    "tp.plot_graph(results['graph'], val_matrix=results['val_matrix'], var_names=var_names)\n",
    "plt.show()"
   ]
  },
  {
   "cell_type": "markdown",
   "id": "410e103e",
   "metadata": {},
   "source": [
    "When we do not include the dummy variables, we see that $X^1$ and $X^0$ are confounded."
   ]
  },
  {
   "cell_type": "code",
   "execution_count": null,
   "id": "dec59397",
   "metadata": {
    "scrolled": false
   },
   "outputs": [],
   "source": [
    "# without dummy\n",
    "\n",
    "# Name all the variables and initialize the dataframe object\n",
    "# Be careful to use analysis_mode = 'multiple'\n",
    "sys_var_names = ['X_' + str(i) for i in links_sys.keys()]\n",
    "context_var_names = ['t-C_'+str(i) for i in observed_indices_time] + ['s-C_'+str(i) for i in observed_indices_space]\n",
    "var_names = sys_var_names + context_var_names \n",
    "\n",
    "dataframe = pp.DataFrame(\n",
    "    data=data_observed,\n",
    "    analysis_mode = 'multiple',\n",
    "    var_names = var_names\n",
    "    )\n",
    "\n",
    "# Create a J-PCMCI+ object, passing the dataframe and (conditional)\n",
    "# independence test objects, as well as the observed temporal and spatial context nodes \n",
    "# and the indices of the dummies.\n",
    "j_pcmciplus = J_PCMCIplus(dataframe=dataframe,\n",
    "                      # ParCorrMultNew is a variant of ParCorrMult that can deal with data rows that are constant zero\n",
    "                      cond_ind_test=ParCorrMultNew(significance='analytic'), \n",
    "                      verbosity=1, \n",
    "                      time_context_nodes=observed_temporal_context_nodes, \n",
    "                      space_context_nodes=observed_spatial_context_nodes,\n",
    "                      time_dummy=None, \n",
    "                      space_dummy=None)\n",
    "\n",
    "\n",
    "# Define the analysis parameters.\n",
    "tau_max = 2\n",
    "pc_alpha = 0.01\n",
    "\n",
    "\n",
    "# Run J-PCMCI+\n",
    "results = j_pcmciplus.run_jpcmciplus(tau_min=0, \n",
    "                              tau_max=tau_max, \n",
    "                              pc_alpha=pc_alpha)"
   ]
  },
  {
   "cell_type": "code",
   "execution_count": null,
   "id": "6725b94e",
   "metadata": {},
   "outputs": [],
   "source": [
    "tp.plot_graph(results['graph'], val_matrix=results['val_matrix'], var_names=var_names)\n",
    "plt.show()"
   ]
  },
  {
   "cell_type": "markdown",
   "id": "9498eb1a",
   "metadata": {},
   "source": [
    "#### References\n",
    "\n",
    "- [1] Mooij\n",
    "- [2] CD-NOD"
   ]
  },
  {
   "cell_type": "code",
   "execution_count": null,
   "id": "b95207e5",
   "metadata": {},
   "outputs": [],
   "source": []
  }
 ],
 "metadata": {
  "kernelspec": {
   "display_name": "Python 3 (ipykernel)",
   "language": "python",
   "name": "python3"
  },
  "language_info": {
   "codemirror_mode": {
    "name": "ipython",
    "version": 3
   },
   "file_extension": ".py",
   "mimetype": "text/x-python",
   "name": "python",
   "nbconvert_exporter": "python",
   "pygments_lexer": "ipython3",
   "version": "3.9.13"
  }
 },
 "nbformat": 4,
 "nbformat_minor": 5
}
