{
 "cells": [
  {
   "cell_type": "markdown",
   "metadata": {},
   "source": [
    "# Causal discovery with `TIGRAMITE`\n",
    "\n",
    "TIGRAMITE is a time series analysis python module. It allows to reconstruct graphical models (conditional independence graphs) from discrete or continuously-valued time series based on the PCMCI framework and create high-quality plots of the results.\n",
    "\n",
    "PCMCI is described here:\n",
    "J. Runge, P. Nowack, M. Kretschmer, S. Flaxman, D. Sejdinovic, \n",
    "Detecting and quantifying causal associations in large nonlinear time series datasets. Sci. Adv. 5, eaau4996 (2019) \n",
    "https://advances.sciencemag.org/content/5/11/eaau4996\n",
    "\n",
    "For further versions of PCMCI (e.g., PCMCI+, LPCMCI, etc.), see the corresponding tutorials.\n",
    "\n",
    "This tutorial compares PCMCI with FullCI. See the following paper for theoretical background:\n",
    "Runge, Jakob. 2018. “Causal Network Reconstruction from Time Series: From Theoretical Assumptions to Practical Estimation.” Chaos: An Interdisciplinary Journal of Nonlinear Science 28 (7): 075310.\n",
    "\n",
    "Last, the following Nature Communications Perspective paper provides an overview of causal inference methods in general, identifies promising applications, and discusses methodological challenges (exemplified in Earth system sciences): \n",
    "https://www.nature.com/articles/s41467-019-10105-3"
   ]
  },
  {
   "cell_type": "code",
   "execution_count": 1,
   "metadata": {},
   "outputs": [],
   "source": [
    "# Imports\n",
    "import numpy as np\n",
    "import matplotlib\n",
    "from matplotlib import pyplot as plt\n",
    "%matplotlib inline     \n",
    "## use `%matplotlib notebook` for interactive figures\n",
    "# plt.style.use('ggplot')\n",
    "import sklearn\n",
    "\n",
    "import tigramite\n",
    "from tigramite import data_processing as pp\n",
    "from tigramite import plotting as tp\n",
    "from tigramite.pcmci import PCMCI\n",
    "from tigramite.independence_tests import ParCorr, GPDC, CMIknn, CMIsymb\n",
    "from tigramite.models import LinearMediation, Prediction\n"
   ]
  },
  {
   "cell_type": "markdown",
   "metadata": {
    "collapsed": true
   },
   "source": [
    "# PCMCI vs FullCI\n",
    "\n",
    "An alternative way to estimate the time series graph is to directly test links by their defining equation (FullCI)\n",
    "\n",
    "\\begin{align*}\n",
    "X^i_{t-\\tau} \\perp X^j_t ~|~ \\mathbf{X}^-_t\n",
    "\\end{align*}\n",
    "\n",
    "where $\\mathbf{X}^-_t=(\\mathbf{X}_{t-1}, \\mathbf{X}_{t-2}, \\ldots)$ is the past of the whole process. This is the approach of a *lag-specific* version of Granger causality or Transfer entropy. This approach gives lower detection power for two reasons:\n",
    "\n",
    "1. Smaller *effect size* of FullCI compared to MCI\n",
    "2. Higher dimensionality "
   ]
  },
  {
   "cell_type": "markdown",
   "metadata": {},
   "source": [
    "## 1. Smaller *effect size* of FullCI compared to MCI\n",
    "\n",
    "Consider the following system:\n",
    "\n",
    "\\begin{align*} \n",
    "Z_t &= a Z_{t-1} + c_{XZ} X_{t-1} + \\eta^Z_t  \\\\\n",
    "X_t &= a_{X} X_{t-1} + c_{WX} W_{t-1} + \\eta^X_t  \\\\\n",
    "Y_t &= a Y_{t-1} + c_{XY} X_{t-2} + c_{WY} W_{t-3} + \\eta^Y_t \\\\\n",
    "W_t &= a W_{t-1} + \\eta^W_t\n",
    "\\end{align*}\n",
    "\n",
    "with independent Gaussian white noise processes $\\eta^{\\cdot}_t$ with variances $\\sigma^2_{\\cdot}$. Considering the link $X_{t-2}\\to Y_t$, here it can be shown (see description paper) that the test statistic $I^{FullCI}(X_{t-2}\\to Y_t) \\leq I^{MCI}(X_{t-2}\\to Y_t)$ generally. In the paper this is proven for arbitrary models. Measuring a smaller effect size implies a lower power to detect this particular link:"
   ]
  },
  {
   "cell_type": "code",
   "execution_count": 2,
   "metadata": {},
   "outputs": [],
   "source": [
    "# Setup analysis\n",
    "np.random.seed(42)     # Fix random seed\n",
    "links_coeffs = {0: [((0, -1), 0.9), ((1, -1), -0.25)],\n",
    "                1: [((1, -1), 0.95), ((3, -1), 0.3)],\n",
    "                2: [((2, -1), 0.85), ((1, -2), 0.3), ((3, -3), 0.3)],\n",
    "                3: [((3, -1), 0.8)],\n",
    "                }\n",
    "T = 100     # time series length\n",
    "N = len(links_coeffs)\n",
    "tau_max = 5\n",
    "realizations = 100\n",
    "alpha_level = 0.05\n",
    "\n",
    "var_names = [r'$Z$', r'$X$', r'$Y$', r'$W$']\n",
    "# # Define whole past\n",
    "# whole_past = {}\n",
    "# for j in range(N):\n",
    "#     whole_past[j] = [(var, -lag)\n",
    "#                          for var in range(N)\n",
    "#                          for lag in range(1, tau_max + 1)\n",
    "#                     ]\n",
    "def get_sig_links():\n",
    "    p_matrices = {'PCMCI':np.ones((realizations, N, N, tau_max+1)),\n",
    "                  'FullCI':np.ones((realizations, N, N, tau_max+1))}\n",
    "    val_matrices = {'PCMCI':np.zeros((realizations, N, N, tau_max+1)),\n",
    "                  'FullCI':np.zeros((realizations, N, N, tau_max+1))}  \n",
    "    for i in range(realizations):\n",
    "        data, true_parents_neighbors = pp.var_process(links_coeffs, T=T)\n",
    "        dataframe = pp.DataFrame(data)\n",
    "        \n",
    "        # PCMCI\n",
    "        pcmci = PCMCI(dataframe=dataframe, cond_ind_test=ParCorr())\n",
    "        results = pcmci.run_pcmci(tau_max=tau_max, pc_alpha=0.2)\n",
    "        p_matrices['PCMCI'][i] = results['p_matrix']\n",
    "        val_matrices['PCMCI'][i] = results['val_matrix']\n",
    "\n",
    "        # Condition on whole past\n",
    "        results = pcmci.run_fullci(tau_max=tau_max)\n",
    "        p_matrices['FullCI'][i] = results['p_matrix']\n",
    "        val_matrices['FullCI'][i] = results['val_matrix']\n",
    "\n",
    "    # Get true positive rate (=power) and false positive rate \n",
    "    sig_links = {'PCMCI':(p_matrices['PCMCI'] <= alpha_level).mean(axis=0),\n",
    "                  'FullCI':(p_matrices['FullCI'] <= alpha_level).mean(axis=0),}\n",
    "    ave_val_matrices = {'PCMCI':val_matrices['PCMCI'].mean(axis=0),\n",
    "                  'FullCI':val_matrices['FullCI'].mean(axis=0),}\n",
    "    return sig_links, ave_val_matrices\n",
    "\n"
   ]
  },
  {
   "cell_type": "code",
   "execution_count": null,
   "metadata": {},
   "outputs": [],
   "source": [
    "sig_links, ave_val_matrices = get_sig_links()"
   ]
  },
  {
   "cell_type": "markdown",
   "metadata": {},
   "source": [
    "We estimate how often a link was detected at the given ``alpha_level`` and plot this fraction as the width of the links while the average effect size for each link is given as the color:"
   ]
  },
  {
   "cell_type": "code",
   "execution_count": null,
   "metadata": {},
   "outputs": [],
   "source": [
    "# Showing detection power as width of links\n",
    "min_sig = 0.2\n",
    "vminmax = 0.4\n",
    "graph = (sig_links['PCMCI'] > min_sig)\n",
    "tp.plot_graph(val_matrix=ave_val_matrices['PCMCI'],\n",
    "              graph=graph, var_names=var_names,\n",
    "              link_width=sig_links['PCMCI'],\n",
    "              vmin_edges=-vminmax,\n",
    "              vmax_edges=vminmax,\n",
    "\n",
    ")\n",
    "graph = (sig_links['FullCI'] > min_sig)\n",
    "tp.plot_graph(val_matrix=ave_val_matrices['FullCI'],\n",
    "              graph=graph, var_names=var_names,\n",
    "              link_width=sig_links['FullCI'], \n",
    "              link_colorbar_label='FullCI',\n",
    "              node_colorbar_label='auto-FullCI',\n",
    "              vmin_edges=-vminmax,\n",
    "              vmax_edges=vminmax,\n",
    "); plt.show()"
   ]
  },
  {
   "cell_type": "markdown",
   "metadata": {},
   "source": [
    "Evidently, the power of FullCI is lower mainly due to FullCI's test statistic effect size being smaller. MCI has been constructed to estimate a certain notion of *causal strength* as discussed in the paper. MCI, thus, alleviates the effect of other dependencies on a particular link. In large-scale studies, this feature allows to rank links by their causal strength."
   ]
  },
  {
   "cell_type": "markdown",
   "metadata": {},
   "source": [
    "## 2. Higher dimensionality \n",
    "\n",
    "An obvious drawback of FullCI is that it always includes the whole past as a condition leading to very high estimation dimension which results in lower power. In the following we consider a model with many irrelevant independent variables."
   ]
  },
  {
   "cell_type": "code",
   "execution_count": null,
   "metadata": {},
   "outputs": [],
   "source": [
    "# Setup analysis\n",
    "np.random.seed(42)     # Fix random seed\n",
    "links_coeffs = {0: [((0, -1), 0.9), ((1, -1), -0.25)],\n",
    "                1: [((1, -1), 0.95), ((3, -1), 0.3)],\n",
    "                2: [((2, -1), 0.85), ((1, -2), 0.3), ((3, -3), 0.3)],\n",
    "                3: [((3, -1), 0.8)],\n",
    "                }\n",
    "T = 80     # time series length\n",
    "tau_max = 5\n",
    "realizations = 100\n",
    "alpha_level = 0.05\n",
    "n_variables = 9\n",
    "\n",
    "# Add independent autocorrelated variables\n",
    "for d in range(4, n_variables):\n",
    "    links_coeffs[d] = [((d, -1), 0.2 + np.random.rand()*0.7)]\n",
    "    \n",
    "var_names = [r'$Z$', r'$X$', r'$Y$', r'$W$'] + list(range(4, n_variables))\n",
    "\n",
    "N = len(links_coeffs)\n",
    "# # Define whole past\n",
    "# whole_past = {}\n",
    "# for j in range(N):\n",
    "#     whole_past[j] = [(var, -lag)\n",
    "#                          for var in range(N)\n",
    "#                          for lag in range(1, tau_max + 1)\n",
    "#                     ]"
   ]
  },
  {
   "cell_type": "code",
   "execution_count": null,
   "metadata": {},
   "outputs": [],
   "source": [
    "# This cell may take some minutes\n",
    "sig_links, ave_val_matrices = get_sig_links()"
   ]
  },
  {
   "cell_type": "code",
   "execution_count": null,
   "metadata": {},
   "outputs": [],
   "source": [
    "# Showing detection power as width of links\n",
    "min_sig = 0.05\n",
    "vminmax = 0.5\n",
    "graph = (sig_links['PCMCI'] > min_sig)\n",
    "tp.plot_graph(val_matrix=ave_val_matrices['PCMCI'],\n",
    "              graph=graph, \n",
    "              link_width=sig_links['PCMCI'],\n",
    "              vmin_edges=-vminmax,\n",
    "              vmax_edges=vminmax,\n",
    "              var_names = var_names,\n",
    "\n",
    ")\n",
    "graph = (sig_links['FullCI'] > min_sig)\n",
    "tp.plot_graph(val_matrix=ave_val_matrices['FullCI'],\n",
    "              graph=graph, \n",
    "              link_width=sig_links['FullCI'], \n",
    "              link_colorbar_label='FullCI',\n",
    "              node_colorbar_label='auto-FullCI',\n",
    "              vmin_edges=-vminmax,\n",
    "              vmax_edges=vminmax,\n",
    "             var_names = var_names,\n",
    "\n",
    "); plt.show()"
   ]
  },
  {
   "cell_type": "markdown",
   "metadata": {},
   "source": [
    "Here adding just 5 independent variables makes it already impossible to detect the true links with FullCI, while PCMCI still detects them with almost the same power as before while still well controlling false positives at the expected 5% level (note that only 100 realizations were used to estimate the false positive rates making them not very reliable while the true positive rates are more reliable):"
   ]
  },
  {
   "cell_type": "code",
   "execution_count": null,
   "metadata": {},
   "outputs": [],
   "source": [
    "true_links = np.zeros((N, N, tau_max+1))\n",
    "for var in list(links_coeffs):\n",
    "    for par in links_coeffs[var]:\n",
    "        true_links[par[0][0], var, abs(par[0][1])] = True\n",
    "# print true_links\n",
    "print (\"Mean true  positives PCMCI \", np.mean(sig_links['PCMCI'][:,:,1:]\n",
    "                                                [true_links[:,:,1:]==True]).round(3))\n",
    "print (\"Mean false positives PCMCI \", np.mean(sig_links['PCMCI'][:,:,1:]\n",
    "                                                [true_links[:,:,1:]==False]).round(3))\n",
    "print (\"Mean true  positives FullCI    \", np.mean(sig_links['FullCI'][:,:,1:]\n",
    "                                                [true_links[:,:,1:]==True]).round(3))\n",
    "print (\"Mean false positives FullCI    \", np.mean(sig_links['FullCI'][:,:,1:]\n",
    "                                                [true_links[:,:,1:]==False]).round(3))"
   ]
  }
 ],
 "metadata": {
  "kernelspec": {
   "display_name": "Python (py37)",
   "language": "python",
   "name": "py37"
  },
  "language_info": {
   "codemirror_mode": {
    "name": "ipython",
    "version": 3
   },
   "file_extension": ".py",
   "mimetype": "text/x-python",
   "name": "python",
   "nbconvert_exporter": "python",
   "pygments_lexer": "ipython3",
   "version": "3.7.11"
  }
 },
 "nbformat": 4,
 "nbformat_minor": 1
}
